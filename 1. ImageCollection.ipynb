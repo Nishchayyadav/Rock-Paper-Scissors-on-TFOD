{
 "cells": [
  {
   "cell_type": "markdown",
   "metadata": {},
   "source": [
    "## **Collecting Images using Code for the Model**"
   ]
  },
  {
   "cell_type": "markdown",
   "metadata": {},
   "source": [
    "#### **1. Setting Up**"
   ]
  },
  {
   "cell_type": "code",
   "execution_count": null,
   "metadata": {},
   "outputs": [],
   "source": [
    "%pip install opencv-python"
   ]
  },
  {
   "cell_type": "code",
   "execution_count": 1,
   "metadata": {},
   "outputs": [],
   "source": [
    "import os\n",
    "import time\n",
    "import uuid\n",
    "import cv2"
   ]
  },
  {
   "cell_type": "code",
   "execution_count": null,
   "metadata": {},
   "outputs": [],
   "source": [
    "labels = ['rock' , 'paper', 'scissor']\n",
    "numImages = 10"
   ]
  },
  {
   "cell_type": "code",
   "execution_count": null,
   "metadata": {},
   "outputs": [],
   "source": [
    "imagesPath = os.path.join('Tensorflow', 'workspace', 'images', 'collectedImages')\n",
    "if not os.path.exists(imagesPath):\n",
    "    !mkdir {imagesPath}\n",
    "for label in labels:\n",
    "    labelPath = os.path.join(imagesPath, label)\n",
    "    if not os.path.exists(labelPath):\n",
    "        !mkdir {labelPath}"
   ]
  },
  {
   "cell_type": "markdown",
   "metadata": {},
   "source": [
    "#### **2. Capturing images either using FaceCam or Manually add them**"
   ]
  },
  {
   "cell_type": "code",
   "execution_count": null,
   "metadata": {},
   "outputs": [],
   "source": [
    "#Method - 1 : Simply add images using external source or own camera\n",
    "#Method - 2 : Using Facecam\n",
    "\n",
    "for label in labels:\n",
    "    cam = cv2.VideoCapture(0)\n",
    "    print(f\"Images for Label : {label}\")\n",
    "    time.sleep(5)\n",
    "    for image in range(numImages):\n",
    "        print(f\"Images Number : {image}\")\n",
    "        ret, frame = cam.read()\n",
    "        allImagePath = os.path.join(imagesPath, label, f\"{label} - {str(uuid.uuid1())}.jpg\")\n",
    "        cv2.imwrite(allImagePath,frame)\n",
    "        cv2.imshow('Preview', frame)\n",
    "        time.sleep(3)\n",
    "        if cv2.waitKey(1) & 0xFF == ord('q'):\n",
    "            break\n",
    "    \n",
    "cam.release()\n",
    "cv2.destroyAllWindows()"
   ]
  },
  {
   "cell_type": "markdown",
   "metadata": {},
   "source": [
    "#### **3. Labelling Captured Images**"
   ]
  },
  {
   "cell_type": "code",
   "execution_count": null,
   "metadata": {},
   "outputs": [],
   "source": [
    "%pip install --upgrade pyqt5 lxml"
   ]
  },
  {
   "cell_type": "code",
   "execution_count": null,
   "metadata": {},
   "outputs": [],
   "source": [
    "labelImgPath = os.path.join('Tensorflow', 'labelImg')\n",
    "if not os.path.exists(labelImgPath):\n",
    "    !mkdir {labelImgPath}\n",
    "    !git clone https://github.com/qaprosoft/labelImg {labelImgPath}"
   ]
  },
  {
   "cell_type": "code",
   "execution_count": null,
   "metadata": {},
   "outputs": [],
   "source": [
    "!cd {labelImgPath} && pyrcc5 -o resources.py resources.qrc"
   ]
  },
  {
   "cell_type": "code",
   "execution_count": null,
   "metadata": {},
   "outputs": [],
   "source": [
    "!cd {labelImgPath} && python labelImg.py"
   ]
  },
  {
   "cell_type": "markdown",
   "metadata": {},
   "source": [
    "#### **3. Making Test and Train folders**"
   ]
  },
  {
   "cell_type": "code",
   "execution_count": null,
   "metadata": {},
   "outputs": [],
   "source": [
    "testPath = os.path.join('Tensorflow', 'workspace', 'images', 'test')\n",
    "trainPath = os.path.join('Tensorflow', 'workspace', 'images', 'train')\n",
    "!mkdir {testPath} {trainPath}"
   ]
  }
 ],
 "metadata": {
  "kernelspec": {
   "display_name": "mlproject",
   "language": "python",
   "name": "mlproject"
  },
  "language_info": {
   "codemirror_mode": {
    "name": "ipython",
    "version": 3
   },
   "file_extension": ".py",
   "mimetype": "text/x-python",
   "name": "python",
   "nbconvert_exporter": "python",
   "pygments_lexer": "ipython3",
   "version": "3.11.7"
  }
 },
 "nbformat": 4,
 "nbformat_minor": 4
}
